import numpy as np
import pandas as pd
import matplotlib.pyplot as plt
import seaborn as sns


df = pd.read_csv("data/train.csv")




df.head()


sns.heatmap(df.isnull(),yticklabels=False,cbar=False)


df.shape


df.isnull().sum()


df['LotFrontage']=df['LotFrontage'].fillna(df['LotFrontage'].mean())


df.drop(['Alley'],axis=1,inplace=True)


df['BsmtCond']=df['BsmtCond'].fillna(df['BsmtCond'].mode()[0])
df['BsmtQual']=df['BsmtQual'].fillna(df['BsmtQual'].mode()[0])


df['FireplaceQu']=df['FireplaceQu'].fillna(df['FireplaceQu'].mode()[0])
df['GarageType']=df['GarageType'].fillna(df['GarageType'].mode()[0])


df.drop(['GarageYrBlt'],axis=1,inplace=True)


df['GarageFinish']=df['GarageFinish'].fillna(df['GarageFinish'].mode()[0])
df['GarageQual']=df['GarageQual'].fillna(df['GarageQual'].mode()[0])
df['GarageCond']=df['GarageCond'].fillna(df['GarageCond'].mode()[0])


df.drop(['PoolQC','Fence','MiscFeature'],axis=1,inplace=True)


df.shape


df.drop(['Id'],axis=1,inplace=True)


df.isnull().sum()


df['MasVnrType']=df['MasVnrType'].fillna(df['MasVnrType'].mode()[0])
df['MasVnrArea']=df['MasVnrArea'].fillna(df['MasVnrArea'].mode()[0])


sns.heatmap(df.isnull(),yticklabels=False,cbar=False,cmap='coolwarm')



